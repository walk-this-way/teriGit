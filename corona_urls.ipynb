{
 "cells": [
  {
   "cell_type": "markdown",
   "metadata": {},
   "source": [
    "# Analysis of new urls associated with COVID in last 7 days"
   ]
  },
  {
   "cell_type": "markdown",
   "metadata": {},
   "source": [
    "Recently read an article discussing websites registered associated with the COVID-19 virus that are either malicious or spread misinformation.\n",
    "\n",
    "https://labs.sentinelone.com/threat-intel-update-cyber-attacks-leveraging-the-covid-19-coronavirus-pandemic/?fbclid=IwAR12I9Kn0qsIumXCl8rzvOYPLDrQYlMgfYpBIDb3nSM78NgNukAOfuGrE0Y"
   ]
  },
  {
   "cell_type": "markdown",
   "metadata": {},
   "source": [
    "Pulled data sets from these websites to identify newly registered domain names:\n",
    "    \n",
    "    https://newly-registered-domains.whoisxmlapi.com/\n",
    "    https://dnpedia.com/tlds/search.php"
   ]
  },
  {
   "cell_type": "markdown",
   "metadata": {},
   "source": [
    "This was posted in a **slack** channel I follow:\n",
    "    \n",
    "Gathered IOCs used directly in coronavirus / covid-19 / SARS-CoV-2 cyber attack campaigns\n",
    "\n",
    "https://github.com/parthdmaniar/coronavirus-covid-19-SARS-CoV-2-IoCs"
   ]
  },
  {
   "cell_type": "markdown",
   "metadata": {},
   "source": [
    "import modules"
   ]
  },
  {
   "cell_type": "code",
   "execution_count": 10,
   "metadata": {},
   "outputs": [],
   "source": [
    "import numpy as np\n",
    "import pandas as pd\n",
    "import plotly.express as px\n",
    "import plotly.graph_objects as go\n",
    "import matplotlib.pyplot as plt\n",
    "import seaborn as sns\n",
    "sns.set()"
   ]
  },
  {
   "cell_type": "markdown",
   "metadata": {},
   "source": [
    "ingest data and store in variables"
   ]
  },
  {
   "cell_type": "code",
   "execution_count": 11,
   "metadata": {
    "scrolled": true
   },
   "outputs": [],
   "source": [
    "Corona = pd.read_csv(r'Corona_cleaned_25Mar.csv', encoding='ISO-8859-1')\n",
    "COVID = pd.read_csv(r'Covid_cleaned_25Mar.csv', encoding='ISO-8859-1')\n",
    "virus = pd.read_csv(r'virus_cleaned_25Mar.csv', encoding='ISO-8859-1')\n"
   ]
  },
  {
   "cell_type": "markdown",
   "metadata": {},
   "source": [
    "Define column headers"
   ]
  },
  {
   "cell_type": "markdown",
   "metadata": {},
   "source": [
    "# "
   ]
  },
  {
   "cell_type": "code",
   "execution_count": 12,
   "metadata": {},
   "outputs": [],
   "source": [
    "Corona['Date']=pd.to_datetime(Corona['Date'])\n",
    "COVID['Date']=pd.to_datetime(COVID['Date'])\n",
    "virus['Date']=pd.to_datetime(virus['Date'])"
   ]
  },
  {
   "cell_type": "code",
   "execution_count": 13,
   "metadata": {},
   "outputs": [
    {
     "data": {
      "text/plain": [
       "(                      Domain   TDL  Len       Date\n",
       " 0            100daysofcorona   com   15 2020-03-18\n",
       " 1            1800coronavirus   com   15 2020-03-18\n",
       " 2                  19coronas   com    9 2020-03-18\n",
       " 3          1minutecoronatest   com   17 2020-03-18\n",
       " 4        2020coronarecession   com   19 2020-03-18\n",
       " ...                      ...   ...  ...        ...\n",
       " 13145  thecoronavirusvaccine  info   21 2020-03-25\n",
       " 13146          virusulcorona  info   13 2020-03-25\n",
       " 13147            watchcorona  info   11 2020-03-25\n",
       " 13148         watchforcorona  info   14 2020-03-25\n",
       " 13149       corona-zuschsse  info   16 2020-03-25\n",
       " \n",
       " [13150 rows x 4 columns],\n",
       "                      domain   TLD  Len       Date\n",
       " 0                2019ncovid   com   10 2020-03-18\n",
       " 1                2020-covid   com   10 2020-03-18\n",
       " 2      2020covid-19pandemic   com   20 2020-03-18\n",
       " 3             2020covidlive   com   13 2020-03-18\n",
       " 4         2020covidsurvivor   com   17 2020-03-18\n",
       " ...                     ...   ...  ...        ...\n",
       " 13799           searchcovid  info   11 2020-03-25\n",
       " 13800      survivorsofcovid  info   16 2020-03-25\n",
       " 13801          swaycovid-19  info   12 2020-03-25\n",
       " 13802       synnituscovid19  info   15 2020-03-25\n",
       " 13803     treatmentcovid-19  info   17 2020-03-25\n",
       " \n",
       " [13804 rows x 4 columns],\n",
       "                     domain   TLD  Len       Date\n",
       " 0             123virusfree   com   12 2020-03-18\n",
       " 1          1800coronavirus   com   15 2020-03-18\n",
       " 2                1800virus   com    9 2020-03-18\n",
       " 3     2020coronavirusstats   com   20 2020-03-18\n",
       " 4              2020viruses   com   11 2020-03-18\n",
       " ...                    ...   ...  ...        ...\n",
       " 8347          virusflights  info   12 2020-03-25\n",
       " 8348          virusprepper  info   12 2020-03-25\n",
       " 8349        virusshieldinc  info   14 2020-03-25\n",
       " 8350         virusulcorona  info   13 2020-03-25\n",
       " 8351             yourvirus  info    9 2020-03-25\n",
       " \n",
       " [8352 rows x 4 columns])"
      ]
     },
     "execution_count": 13,
     "metadata": {},
     "output_type": "execute_result"
    }
   ],
   "source": [
    "Corona, COVID, virus"
   ]
  },
  {
   "cell_type": "code",
   "execution_count": 15,
   "metadata": {},
   "outputs": [
    {
     "ename": "SyntaxError",
     "evalue": "invalid token (<ipython-input-15-915692bd5c7c>, line 3)",
     "output_type": "error",
     "traceback": [
      "\u001b[1;36m  File \u001b[1;32m\"<ipython-input-15-915692bd5c7c>\"\u001b[1;36m, line \u001b[1;32m3\u001b[0m\n\u001b[1;33m    Corona_data = Corona_data[Corona_data['Date'] >= 2020-03-18 ]\u001b[0m\n\u001b[1;37m                                                           ^\u001b[0m\n\u001b[1;31mSyntaxError\u001b[0m\u001b[1;31m:\u001b[0m invalid token\n"
     ]
    }
   ],
   "source": [
    "Corona_data = Corona_cleaned_25Mar.csv(colums={'domain' : 'domain', 'TLD' : 'TLD', 'Len' : 'Len', 'Date' : 'Date'})\n",
    "\n",
    "Corona_data = Corona_data[Corona_data['Date'] >= 2020-03-18 ]"
   ]
  },
  {
   "cell_type": "code",
   "execution_count": null,
   "metadata": {},
   "outputs": [],
   "source": [
    "ax=Corona_global.plot.line(title='websites registered with Corona in domain name', x='n_Date', y = 'Date');\n",
    "Corona_global.plot.line(ax=ax, title='length of domain names with Corona in name', x='n_domain', y = 'Len');\n",
    "Corona_global.plot.line(ax=ax, title='length of domain names with Corona in name', x='n_Date', y = 'Len');\n",
    "Corona_global.plot.line(ax=ax, title='Date registered of domain names with Corona in name', x='n_Date', y = 'TLD');\n",
    "ax.set_ylabel(\"Number of Domains\");"
   ]
  }
 ],
 "metadata": {
  "kernelspec": {
   "display_name": "Python 3",
   "language": "python",
   "name": "python3"
  },
  "language_info": {
   "codemirror_mode": {
    "name": "ipython",
    "version": 3
   },
   "file_extension": ".py",
   "mimetype": "text/x-python",
   "name": "python",
   "nbconvert_exporter": "python",
   "pygments_lexer": "ipython3",
   "version": "3.7.6"
  }
 },
 "nbformat": 4,
 "nbformat_minor": 4
}
